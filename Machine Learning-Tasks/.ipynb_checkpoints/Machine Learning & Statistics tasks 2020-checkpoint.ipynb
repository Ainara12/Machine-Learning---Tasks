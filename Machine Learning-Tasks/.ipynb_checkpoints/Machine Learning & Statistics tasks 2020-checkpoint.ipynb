{
 "cells": [
  {
   "cell_type": "markdown",
   "metadata": {},
   "source": [
    "# MACHINE LEARNING MODULE TASKS 2020\n",
    "\n",
    "In this notebook I am listing the 4 tasks to complete for this Machine Learning module. \n",
    "\n",
    "## Table of contents: \n",
    "\n",
    "### Task 1. \n",
    "\n",
    "### Task 2. \n",
    "\n",
    "### Task 3. \n",
    "\n",
    "### Task 4. \n",
    "\n"
   ]
  },
  {
   "cell_type": "markdown",
   "metadata": {},
   "source": [
    "### Task 1: \n",
    "\n",
    "### Create a Python function called 'sqrt2' that calculates and prints to the screen the square root of 2 to 100 decimal places. Remember that your code should not depend on any module from the standard library or otherwise. \n",
    "\n",
    "References: \n",
    "\n",
    "- Map function use: https://www.programiz.com/python-programming/methods/built-in/map \n",
    "\n",
    "\n"
   ]
  },
  {
   "cell_type": "code",
   "execution_count": 10,
   "metadata": {},
   "outputs": [
    {
     "name": "stdout",
     "output_type": "stream",
     "text": [
      "{16, 1, 9}\n"
     ]
    }
   ],
   "source": [
    "#  In order to tackle this task I decided to use the map function as explained in class. \n",
    "\n",
    "def sqrt2(n):\n",
    "    return n**2\n",
    "\n",
    "samplenumber = (1,3,4)\n",
    "result = map(sqrt2, samplenumber)\n",
    "\n",
    "numbersqrt2 = set (result)\n",
    "\n",
    "print(numbersqrt2)\n"
   ]
  },
  {
   "cell_type": "code",
   "execution_count": null,
   "metadata": {},
   "outputs": [],
   "source": []
  }
 ],
 "metadata": {
  "kernelspec": {
   "display_name": "Python 3",
   "language": "python",
   "name": "python3"
  },
  "language_info": {
   "codemirror_mode": {
    "name": "ipython",
    "version": 3
   },
   "file_extension": ".py",
   "mimetype": "text/x-python",
   "name": "python",
   "nbconvert_exporter": "python",
   "pygments_lexer": "ipython3",
   "version": "3.8.3"
  }
 },
 "nbformat": 4,
 "nbformat_minor": 4
}
