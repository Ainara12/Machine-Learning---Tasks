{
 "cells": [
  {
   "cell_type": "markdown",
   "metadata": {},
   "source": [
    "# MACHINE LEARNING MODULE TASKS 2020\n",
    "\n",
    "In this notebook I am listing the 4 tasks to complete for this Machine Learning module. \n",
    "\n",
    "## Table of contents: \n",
    "\n",
    "### Task 1. \n",
    "\n",
    "### Task 2. \n",
    "\n",
    "### Task 3. \n",
    "\n",
    "### Task 4. \n",
    "\n"
   ]
  },
  {
   "cell_type": "markdown",
   "metadata": {},
   "source": [
    "### Task 1: \n",
    "\n",
    "#### Create a Python function called 'sqrt2' that calculates and prints to the screen the square root of 2 to 100 decimal places. Remember that your code should not depend on any module from the standard library or otherwise. \n",
    "\n",
    "References: \n",
    "\n",
    "- Map function use: https://www.programiz.com/python-programming/methods/built-in/map \n",
    "\n",
    "- Reduce functio use: https://www.geeksforgeeks.org/reduce-in-python/ \n",
    "\n",
    "\n",
    "\n",
    "\n"
   ]
  },
  {
   "cell_type": "code",
   "execution_count": 3,
   "metadata": {},
   "outputs": [
    {
     "name": "stdout",
     "output_type": "stream",
     "text": [
      "1.4142135623730951\n"
     ]
    }
   ],
   "source": [
    "\n",
    "import math \n",
    "\n",
    "def sqrt2(n):\n",
    "    return math.sqrt(2)\n",
    "                   \n",
    "#def round_up(sqrt2, decimals=100):\n",
    "    #multiplier = 100 ** decimals\n",
    "    #return math.ceil(sqrt2 * multiplier) \n",
    "\n",
    "\n",
    "print(sqrt2(2))#this formula prints 16 decimal spaces \n",
    "\n",
    "\n",
    "\n",
    "\n",
    "\n"
   ]
  },
  {
   "cell_type": "code",
   "execution_count": 2,
   "metadata": {},
   "outputs": [
    {
     "ename": "NameError",
     "evalue": "name 'mapping' is not defined",
     "output_type": "error",
     "traceback": [
      "\u001b[1;31m---------------------------------------------------------------------------\u001b[0m",
      "\u001b[1;31mNameError\u001b[0m                                 Traceback (most recent call last)",
      "\u001b[1;32m<ipython-input-2-b6e7d7607308>\u001b[0m in \u001b[0;36m<module>\u001b[1;34m\u001b[0m\n\u001b[1;32m----> 1\u001b[1;33m \u001b[0mmapping\u001b[0m \u001b[1;33m(\u001b[0m\u001b[0msqrt2\u001b[0m\u001b[1;33m,\u001b[0m\u001b[0msamplenumber\u001b[0m\u001b[1;33m)\u001b[0m\u001b[1;33m\u001b[0m\u001b[1;33m\u001b[0m\u001b[0m\n\u001b[0m\u001b[0;32m      2\u001b[0m \u001b[1;33m\u001b[0m\u001b[0m\n\u001b[0;32m      3\u001b[0m \u001b[1;33m\u001b[0m\u001b[0m\n\u001b[0;32m      4\u001b[0m \u001b[1;33m\u001b[0m\u001b[0m\n\u001b[0;32m      5\u001b[0m \u001b[1;33m\u001b[0m\u001b[0m\n",
      "\u001b[1;31mNameError\u001b[0m: name 'mapping' is not defined"
     ]
    }
   ],
   "source": [
    "mapping (sqrt2,samplenumber)\n",
    "\n",
    "\n",
    "\n",
    "\n",
    "\n"
   ]
  },
  {
   "cell_type": "markdown",
   "metadata": {},
   "source": [
    "### Task 2:\n",
    "\n",
    "#### Given the table below extracted from the Wikipedia article for the Chi-squared test which states that the Chi-squared value based on it is approximately 24.6 . Use module scipy.stats to verify this value and calculate the associated *p* value.\n",
    "\n",
    "***\n",
    "References:\n",
    "\n",
    "- [Chi-squared Wikipedia page](https://en.wikipedia.org/w/index.php?title=Chi-squared_test&oldid=983024096)\n",
    "- [How to do a chi-square test for independence](https://stattrek.com/chi-square-test/independence.aspx)\n",
    "- [introduction to chi-squared test for machine learning](https://machinelearningmastery.com/chi-squared-test-for-machine-learning/ )\n",
    "- [Scipy stats chi2 contingency documentation ](https://docs.scipy.org/doc/scipy/reference/generated/scipy.stats.chi2_contingency.html)\n",
    "- [Scipy stats contengency expected frequency function documentation](https://docs.scipy.org/doc/scipy/reference/generated/scipy.stats.contingency.expected_freq.html#scipy.stats.contingency.expected_freq)\n",
    "\n",
    "***\n",
    "\n",
    "The Chi-squared test is perform when the test statistics is chi-squares distributed . We perform a Pearson's chi-squared test in order to determine whether there is a statistically singnificant difference between expected and observed frequencies in or more categories of a contingency table. In this case we work with 3 categories/classes ( white collar, blue collar or non collar) and 4 variables representing different neighbourghoods (A,B,C and D).\n",
    "\n",
    "In order to confirm the approximate Chi-squared value of 24.6 and find 'p' based on the example contingency table [here](https://en.wikipedia.org/w/index.php?title=Chi-squared_test&oldid=983024096), I have followed the steps detailed below: \n",
    "\n",
    "- 1. First, I have imported the necessary modules and create my observations table as  numpy array. \n",
    "\n",
    "- 2. Within the module 'scipy stats contingency' I have used 'expected_freq' function to find and print a table with the expected frequencies from our contingency table containing the observation values. \n"
   ]
  },
  {
   "cell_type": "code",
   "execution_count": 4,
   "metadata": {},
   "outputs": [
    {
     "name": "stdout",
     "output_type": "stream",
     "text": [
      "[[ 90  60 104  95]\n",
      " [ 30  50  51  20]\n",
      " [ 30  40  45  35]]\n"
     ]
    },
    {
     "data": {
      "text/plain": [
       "array([[ 80.53846154,  80.53846154, 107.38461538,  80.53846154],\n",
       "       [ 34.84615385,  34.84615385,  46.46153846,  34.84615385],\n",
       "       [ 34.61538462,  34.61538462,  46.15384615,  34.61538462]])"
      ]
     },
     "execution_count": 4,
     "metadata": {},
     "output_type": "execute_result"
    }
   ],
   "source": [
    "\n",
    "#For some parts of the code I used this source: https://machinelearningmastery.com/chi-squared-test-for-machine-learning/ \n",
    "#Imported necessary modules first\n",
    "import numpy as np \n",
    "from scipy.stats import chi2_contingency\n",
    "from scipy.stats.contingency import expected_freq \n",
    "\n",
    "table= np.array([[90,60,104,95], #Creating contingency table with observed values\n",
    "                  [30,50,51,20],\n",
    "                  [30,40,45,35],\n",
    "                  ])\n",
    "print (table)#We print the table with the observed values\n",
    "\n",
    "observed = table \n",
    "expected_freq(observed)#here use this function to create andb print the arrays of expected frequency values \n"
   ]
  },
  {
   "cell_type": "markdown",
   "metadata": {},
   "source": [
    "- 3. Then I confirmed the degree of freedom is 6 with the function detailed in [Python SciPy.org](https://docs.scipy.org/doc/scipy/reference/generated/scipy.stats.chi2_contingency.html)\n",
    "- 4. Having dof , I was able to use chi2_contingency function to confirm 'p' and Chi-Squared value. "
   ]
  },
  {
   "cell_type": "code",
   "execution_count": 5,
   "metadata": {},
   "outputs": [
    {
     "name": "stdout",
     "output_type": "stream",
     "text": [
      "6\n",
      "24.5712028585826\n",
      "0.0004098425861096696\n"
     ]
    }
   ],
   "source": [
    "#Now we need to find the 'p'value and confirm that the Chi-squared value is 24.6.\n",
    "\n",
    "dof = observed.size - sum(observed.shape) + observed.ndim - 1 #Confirming degree of freedom in this case is 6\n",
    "\n",
    "print(dof) # confirming dof is correct\n",
    "\n",
    "#to find p:\n",
    "\n",
    "chi2, p, dof, ex = chi2_contingency(observed, correction=False)\n",
    "\n",
    "print(chi2) # printing this value we can see that it is correct, and we can confirm 'p' value is then also correct\n",
    "\n",
    "print(p)"
   ]
  },
  {
   "cell_type": "code",
   "execution_count": null,
   "metadata": {},
   "outputs": [],
   "source": [
    "\n"
   ]
  },
  {
   "cell_type": "code",
   "execution_count": null,
   "metadata": {},
   "outputs": [],
   "source": []
  },
  {
   "cell_type": "code",
   "execution_count": null,
   "metadata": {},
   "outputs": [],
   "source": []
  }
 ],
 "metadata": {
  "kernelspec": {
   "display_name": "Python 3",
   "language": "python",
   "name": "python3"
  },
  "language_info": {
   "codemirror_mode": {
    "name": "ipython",
    "version": 3
   },
   "file_extension": ".py",
   "mimetype": "text/x-python",
   "name": "python",
   "nbconvert_exporter": "python",
   "pygments_lexer": "ipython3",
   "version": "3.8.3"
  }
 },
 "nbformat": 4,
 "nbformat_minor": 4
}
